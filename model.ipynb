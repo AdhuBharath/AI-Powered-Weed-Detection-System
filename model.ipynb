{
 "cells": [
  {
   "cell_type": "code",
   "execution_count": 3,
   "id": "603fc639",
   "metadata": {},
   "outputs": [],
   "source": [
    "import tensorflow as tf\n",
    "import keras \n",
    "import matplotlib.pyplot as plt\n",
    "import warnings\n",
    "warnings.simplefilter(\"ignore\")"
   ]
  },
  {
   "cell_type": "code",
   "execution_count": 4,
   "id": "b5eef32e",
   "metadata": {},
   "outputs": [],
   "source": [
    "from keras.preprocessing.image import ImageDataGenerator"
   ]
  },
  {
   "cell_type": "code",
   "execution_count": 5,
   "id": "76adfa91",
   "metadata": {},
   "outputs": [],
   "source": [
    "train_path = 'D:\\data science\\crop weed cleaned dataset\\Train'\n",
    "test_path = 'D:\\data science\\crop weed cleaned dataset\\Test'"
   ]
  },
  {
   "cell_type": "code",
   "execution_count": 6,
   "id": "79fd2264",
   "metadata": {},
   "outputs": [],
   "source": [
    "train_datagen = ImageDataGenerator(rescale=1./255,\n",
    "                                   shear_range=0.2,\n",
    "                                   zoom_range=0.2,\n",
    "                                   horizontal_flip=True)\n"
   ]
  },
  {
   "cell_type": "code",
   "execution_count": 7,
   "id": "9175dec1",
   "metadata": {},
   "outputs": [
    {
     "name": "stdout",
     "output_type": "stream",
     "text": [
      "Found 18019 images belonging to 2 classes.\n"
     ]
    }
   ],
   "source": [
    "train_generator = train_datagen.flow_from_directory(train_path,\n",
    "                                                    target_size=(150, 150),\n",
    "                                                    batch_size=32,\n",
    "                                                    class_mode='binary')"
   ]
  },
  {
   "cell_type": "code",
   "execution_count": 8,
   "id": "bdb6db5e",
   "metadata": {},
   "outputs": [
    {
     "data": {
      "text/plain": [
       "{'crop': 0, 'weed': 1}"
      ]
     },
     "execution_count": 8,
     "metadata": {},
     "output_type": "execute_result"
    }
   ],
   "source": [
    "train_generator.class_indices"
   ]
  },
  {
   "cell_type": "code",
   "execution_count": 9,
   "id": "3f77f2d9",
   "metadata": {},
   "outputs": [],
   "source": [
    "test_datagen = ImageDataGenerator(rescale=1./255)"
   ]
  },
  {
   "cell_type": "code",
   "execution_count": 10,
   "id": "a2c5e009",
   "metadata": {},
   "outputs": [
    {
     "name": "stdout",
     "output_type": "stream",
     "text": [
      "Found 5411 images belonging to 2 classes.\n"
     ]
    }
   ],
   "source": [
    "test_generator = test_datagen.flow_from_directory(test_path,\n",
    "                                                  target_size=(150, 150),\n",
    "                                                  batch_size=32,\n",
    "                                                  class_mode='binary')\n"
   ]
  },
  {
   "cell_type": "code",
   "execution_count": 11,
   "id": "da783809",
   "metadata": {},
   "outputs": [],
   "source": [
    "from tensorflow.keras import layers, models\n",
    "from keras.models import Sequential\n",
    "from keras.layers import Conv2D\n",
    "from keras.layers import MaxPooling2D\n",
    "from keras.layers import Flatten"
   ]
  },
  {
   "cell_type": "code",
   "execution_count": 12,
   "id": "09aebd2e",
   "metadata": {},
   "outputs": [
    {
     "name": "stdout",
     "output_type": "stream",
     "text": [
      "WARNING:tensorflow:From C:\\Users\\840\\anaconda3\\lib\\site-packages\\keras\\src\\backend.py:873: The name tf.get_default_graph is deprecated. Please use tf.compat.v1.get_default_graph instead.\n",
      "\n",
      "WARNING:tensorflow:From C:\\Users\\840\\anaconda3\\lib\\site-packages\\keras\\src\\layers\\pooling\\max_pooling2d.py:161: The name tf.nn.max_pool is deprecated. Please use tf.nn.max_pool2d instead.\n",
      "\n",
      "WARNING:tensorflow:From C:\\Users\\840\\anaconda3\\lib\\site-packages\\keras\\src\\optimizers\\__init__.py:309: The name tf.train.Optimizer is deprecated. Please use tf.compat.v1.train.Optimizer instead.\n",
      "\n"
     ]
    }
   ],
   "source": [
    "# Define the CNN model\n",
    "model = models.Sequential()\n",
    "model.add(layers.Conv2D(32, (3, 3), activation='relu', input_shape=(150, 150, 3)))\n",
    "model.add(layers.MaxPooling2D((2, 2)))\n",
    "model.add(layers.Conv2D(64, (3, 3), activation='relu'))\n",
    "model.add(layers.MaxPooling2D((2, 2)))\n",
    "model.add(layers.Conv2D(128, (3, 3), activation='relu'))\n",
    "model.add(layers.MaxPooling2D((2, 2)))\n",
    "model.add(layers.Flatten())\n",
    "model.add(layers.Dense(128, activation='relu'))\n",
    "model.add(layers.Dense(1, activation='sigmoid'))\n",
    "\n",
    "model.compile(optimizer='adam',\n",
    "              loss='binary_crossentropy',\n",
    "              metrics=['accuracy'])"
   ]
  },
  {
   "cell_type": "code",
   "execution_count": 13,
   "id": "76783720",
   "metadata": {
    "scrolled": true
   },
   "outputs": [
    {
     "name": "stdout",
     "output_type": "stream",
     "text": [
      "Epoch 1/10\n",
      "WARNING:tensorflow:From C:\\Users\\840\\anaconda3\\lib\\site-packages\\keras\\src\\utils\\tf_utils.py:492: The name tf.ragged.RaggedTensorValue is deprecated. Please use tf.compat.v1.ragged.RaggedTensorValue instead.\n",
      "\n",
      "WARNING:tensorflow:From C:\\Users\\840\\anaconda3\\lib\\site-packages\\keras\\src\\engine\\base_layer_utils.py:384: The name tf.executing_eagerly_outside_functions is deprecated. Please use tf.compat.v1.executing_eagerly_outside_functions instead.\n",
      "\n",
      "563/563 [==============================] - 1048s 2s/step - loss: 0.3511 - accuracy: 0.8624 - val_loss: 0.2224 - val_accuracy: 0.9340\n",
      "Epoch 2/10\n",
      "563/563 [==============================] - 846s 2s/step - loss: 0.2212 - accuracy: 0.9298 - val_loss: 0.1549 - val_accuracy: 0.9573\n",
      "Epoch 3/10\n",
      "563/563 [==============================] - 806s 1s/step - loss: 0.1797 - accuracy: 0.9459 - val_loss: 0.1679 - val_accuracy: 0.9528\n",
      "Epoch 4/10\n",
      "563/563 [==============================] - 591s 1s/step - loss: 0.1563 - accuracy: 0.9521 - val_loss: 0.2088 - val_accuracy: 0.9323\n",
      "Epoch 5/10\n",
      "563/563 [==============================] - 598s 1s/step - loss: 0.1391 - accuracy: 0.9561 - val_loss: 0.1834 - val_accuracy: 0.9503\n",
      "Epoch 6/10\n",
      "563/563 [==============================] - 597s 1s/step - loss: 0.1295 - accuracy: 0.9580 - val_loss: 0.1701 - val_accuracy: 0.9575\n",
      "Epoch 7/10\n",
      "563/563 [==============================] - 593s 1s/step - loss: 0.1170 - accuracy: 0.9597 - val_loss: 0.1694 - val_accuracy: 0.9480\n",
      "Epoch 8/10\n",
      "563/563 [==============================] - 593s 1s/step - loss: 0.1077 - accuracy: 0.9630 - val_loss: 0.1574 - val_accuracy: 0.9673\n",
      "Epoch 9/10\n",
      "563/563 [==============================] - 591s 1s/step - loss: 0.1035 - accuracy: 0.9651 - val_loss: 0.1751 - val_accuracy: 0.9582\n",
      "Epoch 10/10\n",
      "563/563 [==============================] - 589s 1s/step - loss: 0.0880 - accuracy: 0.9676 - val_loss: 0.1622 - val_accuracy: 0.9564\n"
     ]
    }
   ],
   "source": [
    "cnn_model = model.fit(train_generator,\n",
    "                    steps_per_epoch=train_generator.samples // train_generator.batch_size,\n",
    "                    epochs=10,  \n",
    "                    validation_data=test_generator,\n",
    "                    validation_steps=test_generator.samples // test_generator.batch_size)\n"
   ]
  },
  {
   "cell_type": "code",
   "execution_count": 14,
   "id": "fa6af98b",
   "metadata": {},
   "outputs": [
    {
     "data": {
      "image/png": "[encoded data removed]",
      "text/plain": [
       "<Figure size 800x800 with 2 Axes>"
      ]
     },
     "metadata": {},
     "output_type": "display_data"
    }
   ],
   "source": [
    "acc = cnn_model.history['accuracy']\n",
    "val_acc = cnn_model.history['val_accuracy']\n",
    "loss = cnn_model.history['loss']\n",
    "val_loss = cnn_model.history['val_loss']\n",
    "\n",
    "epochs_range = range(len(acc))\n",
    "\n",
    "plt.figure(figsize=(8, 8))\n",
    "plt.subplot(1, 2, 1)\n",
    "plt.plot(epochs_range, acc, label='Training Accuracy')\n",
    "plt.plot(epochs_range, val_acc, label='Validation Accuracy')\n",
    "plt.legend(loc='lower right')\n",
    "plt.title('Training and Validation Accuracy')\n",
    "\n",
    "plt.subplot(1, 2, 2)\n",
    "plt.plot(epochs_range, loss, label='Training Loss')\n",
    "plt.plot(epochs_range, val_loss, label='Validation Loss')\n",
    "plt.legend(loc='upper right')\n",
    "plt.title('Training and Validation Loss')\n",
    "\n",
    "plt.show()\n"
   ]
  },
  {
   "cell_type": "code",
   "execution_count": 17,
   "id": "6d919a4c",
   "metadata": {},
   "outputs": [
    {
     "name": "stdout",
     "output_type": "stream",
     "text": [
      "INFO:tensorflow:Assets written to: D:/data science/crop_weed_detection_model\\assets\n"
     ]
    },
    {
     "name": "stderr",
     "output_type": "stream",
     "text": [
      "INFO:tensorflow:Assets written to: D:/data science/crop_weed_detection_model\\assets\n"
     ]
    }
   ],
   "source": [
    "from tensorflow.keras.models import load_model\n",
    "\n",
    "# Save the model\n",
    "model.save(\"D:/data science/crop_weed_detection_model\")\n",
    "\n"
   ]
  },
  {
   "cell_type": "code",
   "execution_count": null,
   "id": "9ebe17a7",
   "metadata": {},
   "outputs": [],
   "source": []
  },
  {
   "cell_type": "code",
   "execution_count": 18,
   "id": "fed3c783",
   "metadata": {},
   "outputs": [],
   "source": [
    "from PIL import Image\n",
    "import numpy as np"
   ]
  },
  {
   "cell_type": "code",
   "execution_count": 19,
   "id": "e59a7168",
   "metadata": {},
   "outputs": [
    {
     "name": "stdout",
     "output_type": "stream",
     "text": [
      "1/1 [==============================] - 0s 485ms/step\n",
      "weed\n"
     ]
    }
   ],
   "source": [
    "t_img=Image.open(\"D:\\data science\\crop weed cleaned dataset\\w.jpg\")\n",
    " \n",
    "t_img=t_img.resize((150,150))\n",
    "t_img=np.array(t_img)\n",
    "t_img=np.expand_dims(t_img,axis=0)\n",
    "\n",
    "result=model.predict(t_img)\n",
    "\n",
    "if result[0][0]==1:\n",
    "    print(\"weed\")\n",
    "else:\n",
    "    print(\"crop\")"
   ]
  },
  {
   "cell_type": "code",
   "execution_count": 1,
   "id": "a8e976c0",
   "metadata": {},
   "outputs": [
    {
     "ename": "NameError",
     "evalue": "name 'Image' is not defined",
     "output_type": "error",
     "traceback": [
      "\u001b[1;31m---------------------------------------------------------------------------\u001b[0m",
      "\u001b[1;31mNameError\u001b[0m                                 Traceback (most recent call last)",
      "Cell \u001b[1;32mIn[1], line 1\u001b[0m\n\u001b[1;32m----> 1\u001b[0m t_img\u001b[38;5;241m=\u001b[39m\u001b[43mImage\u001b[49m\u001b[38;5;241m.\u001b[39mopen(\u001b[38;5;124m\"\u001b[39m\u001b[38;5;124mD:\u001b[39m\u001b[38;5;124m\\\u001b[39m\u001b[38;5;124mdata science\u001b[39m\u001b[38;5;124m\\\u001b[39m\u001b[38;5;124mcrop weed cleaned dataset\u001b[39m\u001b[38;5;124m\\\u001b[39m\u001b[38;5;124mw.jpg\u001b[39m\u001b[38;5;124m\"\u001b[39m)\n\u001b[0;32m      3\u001b[0m t_img\u001b[38;5;241m=\u001b[39mt_img\u001b[38;5;241m.\u001b[39mresize((\u001b[38;5;241m150\u001b[39m,\u001b[38;5;241m150\u001b[39m))\n\u001b[0;32m      4\u001b[0m t_img\u001b[38;5;241m=\u001b[39mnp\u001b[38;5;241m.\u001b[39marray(t_img)\n",
      "\u001b[1;31mNameError\u001b[0m: name 'Image' is not defined"
     ]
    }
   ],
   "source": [
    "t_img=Image.open(\"D:\\data science\\crop weed cleaned dataset\\w.jpg\")\n",
    " \n",
    "t_img=t_img.resize((150,150))\n",
    "t_img=np.array(t_img)\n",
    "t_img=np.expand_dims(t_img,axis=0)\n",
    "\n",
    "result=model.predict(t_img)\n",
    "\n",
    "if result[0][0]==1:\n",
    "    print(\"weed\")\n",
    "else:\n",
    "    print(\"crop\")"
   ]
  },
  {
   "cell_type": "code",
   "execution_count": 3,
   "id": "41984f28",
   "metadata": {},
   "outputs": [
    {
     "name": "stdout",
     "output_type": "stream",
     "text": [
      "1/1 [==============================] - 0s 317ms/step\n",
      "crop\n"
     ]
    }
   ],
   "source": [
    "import numpy as np\n",
    "from tensorflow.keras.models import load_model\n",
    "from keras.preprocessing import image\n",
    "\n",
    "# Load the saved model\n",
    "model_path = \"D:/data science/crop_weed_detection_model\"\n",
    "model = load_model(model_path)  \n",
    "\n",
    "from PIL import Image\n",
    "import numpy as np\n",
    "\n",
    "t_img=Image.open(\"D:\\data science\\crop weed cleaned dataset\\paddy.jpeg\")\n",
    " \n",
    "t_img=t_img.resize((150,150))\n",
    "t_img=np.array(t_img)\n",
    "t_img=np.expand_dims(t_img,axis=0)\n",
    "\n",
    "result=model.predict(t_img)\n",
    "\n",
    "if result[0][0]==1:\n",
    "    print(\"weed\")\n",
    "else:\n",
    "    print(\"crop\")\n"
   ]
  },
  {
   "cell_type": "code",
   "execution_count": 4,
   "id": "b8d16608",
   "metadata": {},
   "outputs": [
    {
     "name": "stdout",
     "output_type": "stream",
     "text": [
      "1/1 [==============================] - 0s 205ms/step\n",
      "weed\n"
     ]
    }
   ],
   "source": [
    "import numpy as np\n",
    "from tensorflow.keras.models import load_model\n",
    "from keras.preprocessing import image\n",
    "\n",
    "# Load the saved model\n",
    "model_path = \"D:/data science/crop_weed_detection_model\"\n",
    "model = load_model(model_path)  \n",
    "\n",
    "from PIL import Image\n",
    "import numpy as np\n",
    "\n",
    "t_img=Image.open(\"D:\\data science\\crop weed cleaned dataset\\weed1.jpg\")\n",
    " \n",
    "t_img=t_img.resize((150,150))\n",
    "t_img=np.array(t_img)\n",
    "t_img=np.expand_dims(t_img,axis=0)\n",
    "\n",
    "result=model.predict(t_img)\n",
    "\n",
    "if result[0][0]==1:\n",
    "    print(\"weed\")\n",
    "else:\n",
    "    print(\"crop\")"
   ]
  },
  {
   "cell_type": "code",
   "execution_count": 6,
   "id": "b07046db",
   "metadata": {},
   "outputs": [
    {
     "name": "stdout",
     "output_type": "stream",
     "text": [
      "1/1 [==============================] - 0s 192ms/step\n",
      "weed\n"
     ]
    }
   ],
   "source": [
    "import numpy as np\n",
    "from tensorflow.keras.models import load_model\n",
    "from keras.preprocessing import image\n",
    "\n",
    "\n",
    "model_path = \"D:/data science/crop_weed_detection_model\"\n",
    "model = load_model(model_path)  \n",
    "\n",
    "from PIL import Image\n",
    "import numpy as np\n",
    "\n",
    "t_img=Image.open(\"D:\\data science\\crop weed cleaned dataset\\weed2.jpeg\")\n",
    " \n",
    "t_img=t_img.resize((150,150))\n",
    "t_img=np.array(t_img)\n",
    "t_img=np.expand_dims(t_img,axis=0)\n",
    "\n",
    "result=model.predict(t_img)\n",
    "\n",
    "if result[0][0]==1:\n",
    "    print(\"weed\")\n",
    "else:\n",
    "    print(\"crop\")"
   ]
  },
  {
   "cell_type": "code",
   "execution_count": 9,
   "id": "c23f4ac8",
   "metadata": {},
   "outputs": [
    {
     "name": "stdout",
     "output_type": "stream",
     "text": [
      "WARNING:tensorflow:6 out of the last 6 calls to <function Model.make_predict_function.<locals>.predict_function at 0x00000116FEBEF370> triggered tf.function retracing. Tracing is expensive and the excessive number of tracings could be due to (1) creating @tf.function repeatedly in a loop, (2) passing tensors with different shapes, (3) passing Python objects instead of tensors. For (1), please define your @tf.function outside of the loop. For (2), @tf.function has reduce_retracing=True option that can avoid unnecessary retracing. For (3), please refer to https://www.tensorflow.org/guide/function#controlling_retracing and https://www.tensorflow.org/api_docs/python/tf/function for  more details.\n",
      "1/1 [==============================] - 0s 198ms/step\n",
      "weed\n"
     ]
    }
   ],
   "source": [
    "import numpy as np\n",
    "from tensorflow.keras.models import load_model\n",
    "from keras.preprocessing import image\n",
    "\n",
    "\n",
    "model_path = \"D:/data science/crop_weed_detection_model\"\n",
    "model = load_model(model_path)  \n",
    "\n",
    "from PIL import Image\n",
    "import numpy as np\n",
    "\n",
    "t_img=Image.open(\"D:\\data science\\crop weed cleaned dataset\\w.jpg\")\n",
    " \n",
    "t_img=t_img.resize((150,150))\n",
    "t_img=np.array(t_img)\n",
    "t_img=np.expand_dims(t_img,axis=0)\n",
    "\n",
    "result=model.predict(t_img)\n",
    "\n",
    "if result[0][0]==1:\n",
    "    print(\"weed\")\n",
    "else:\n",
    "    print(\"crop\")"
   ]
  },
  {
   "cell_type": "code",
   "execution_count": null,
   "id": "8bfa62df",
   "metadata": {},
   "outputs": [],
   "source": []
  }
 ],
 "metadata": {
  "kernelspec": {
   "display_name": "Python 3 (ipykernel)",
   "language": "python",
   "name": "python3"
  },
  "language_info": {
   "codemirror_mode": {
    "name": "ipython",
    "version": 3
   },
   "file_extension": ".py",
   "mimetype": "text/x-python",
   "name": "python",
   "nbconvert_exporter": "python",
   "pygments_lexer": "ipython3",
   "version": "3.10.9"
  }
 },
 "nbformat": 4,
 "nbformat_minor": 5
}
